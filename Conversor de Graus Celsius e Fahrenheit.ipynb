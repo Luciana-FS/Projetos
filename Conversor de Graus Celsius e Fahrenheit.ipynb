{
 "cells": [
  {
   "cell_type": "code",
   "execution_count": 2,
   "id": "74ed8d48-9843-41e1-b4fb-bc7e197182cc",
   "metadata": {},
   "outputs": [
    {
     "name": "stdout",
     "output_type": "stream",
     "text": [
      "Programa para Conversão de Temperaturas\n",
      "1. Converter de Celsius para Fahrenheit\n",
      "2. Converter de Fahrenheit para Celsius\n"
     ]
    },
    {
     "name": "stdin",
     "output_type": "stream",
     "text": [
      "Escolha o tipo de conversão que deseja realizar:  1\n",
      "Entre com a temperatura em graus Celsius:  25\n"
     ]
    },
    {
     "name": "stdout",
     "output_type": "stream",
     "text": [
      "Valor em Fahrenheit: 77.0°F\n"
     ]
    }
   ],
   "source": [
    "# Conversor de Unidades: Graus Celsius e Fahrenheit\n",
    "\n",
    "def menu_inicial():\n",
    "    print('Programa para Conversão de Temperaturas')\n",
    "    print('1. Converter de Celsius para Fahrenheit')\n",
    "    print('2. Converter de Fahrenheit para Celsius')\n",
    "\n",
    "def cel_fahr():\n",
    "    C = float(input('Entre com a temperatura em graus Celsius: '))\n",
    "    F = C * (9 / 5) + 32\n",
    "    print('Valor em Fahrenheit: {0}°F'.format(F))\n",
    "\n",
    "def fahr_cel():\n",
    "    F = float(input('Entre com a temperatura em graus Fahrenheit: '))\n",
    "    C = (F - 32) * (5 / 9)\n",
    "    print('Valor em Celsius: {0}°C'.format(C))\n",
    "\n",
    "if __name__=='__main__':\n",
    "    menu_inicial()\n",
    "    escolha = input('Escolha o tipo de conversão que deseja realizar: ')\n",
    "\n",
    "    if escolha == '1':\n",
    "        cel_fahr()\n",
    "\n",
    "    if escolha == '2':\n",
    "        fahr_cel()"
   ]
  },
  {
   "cell_type": "code",
   "execution_count": null,
   "id": "816f1385-0490-4217-9539-f850835f5268",
   "metadata": {},
   "outputs": [],
   "source": []
  }
 ],
 "metadata": {
  "kernelspec": {
   "display_name": "Python 3 (ipykernel)",
   "language": "python",
   "name": "python3"
  },
  "language_info": {
   "codemirror_mode": {
    "name": "ipython",
    "version": 3
   },
   "file_extension": ".py",
   "mimetype": "text/x-python",
   "name": "python",
   "nbconvert_exporter": "python",
   "pygments_lexer": "ipython3",
   "version": "3.11.7"
  }
 },
 "nbformat": 4,
 "nbformat_minor": 5
}
