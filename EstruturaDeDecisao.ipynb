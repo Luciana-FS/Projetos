{
 "cells": [
  {
   "cell_type": "code",
   "execution_count": 2,
   "id": "820f7ca3-38e3-4e27-91cd-6ffeeb839100",
   "metadata": {},
   "outputs": [
    {
     "name": "stdin",
     "output_type": "stream",
     "text": [
      "Insira um número inteiro:  6\n",
      "Insira outro número inteiro:  7\n"
     ]
    },
    {
     "name": "stdout",
     "output_type": "stream",
     "text": [
      "o maior número é:  7\n"
     ]
    }
   ],
   "source": [
    "#Faça um Programa que peça dois números e imprima o maior deles.\n",
    "\n",
    "n1 = int(input(\"Insira um número inteiro: \"))\n",
    "n2 = int(input(\"Insira outro número inteiro: \"))\n",
    "\n",
    "def nums():\n",
    "     if n1 > n2:\n",
    "        return n1\n",
    "     elif n2 > n1:\n",
    "         return n2\n",
    "\n",
    "print(\"o maior número é: \", nums())"
   ]
  },
  {
   "cell_type": "code",
   "execution_count": 6,
   "id": "0a8fc396-b1d3-42d2-a572-40d224a55bd8",
   "metadata": {},
   "outputs": [
    {
     "name": "stdin",
     "output_type": "stream",
     "text": [
      "Insira um número inteiro positivo ou negativo:  -20\n"
     ]
    },
    {
     "name": "stdout",
     "output_type": "stream",
     "text": [
      "O numero  -20 é negativo\n"
     ]
    }
   ],
   "source": [
    "#Faça um Programa que peça um valor e mostre na tela se o valor é positivo ou negativo.\n",
    "n = int(input(\"Insira um número inteiro positivo ou negativo: \"))\n",
    "\n",
    "if n > 0:\n",
    "    print (\"O numero \", n, \"é positivo\")\n",
    "elif n < 0:\n",
    "    print (\"O numero \", n, \"é negativo\")\n"
   ]
  },
  {
   "cell_type": "code",
   "execution_count": 9,
   "id": "486437ea-704e-45fd-a5de-92453b590934",
   "metadata": {},
   "outputs": [
    {
     "name": "stdin",
     "output_type": "stream",
     "text": [
      "Insira as letras F ou M:  h\n"
     ]
    },
    {
     "name": "stdout",
     "output_type": "stream",
     "text": [
      "H  - Sexo Invalido\n"
     ]
    }
   ],
   "source": [
    "#Faça um Programa que verifique se uma letra digitada é \"F\" ou \"M\". Conforme a letra escrever: F - Feminino, M - Masculino, Sexo Inválido.\n",
    "letra = str(input(\"Insira as letras F ou M: \"))\n",
    "\n",
    "l = letra.upper()\n",
    "\n",
    "if l == \"F\":\n",
    "    print (l, \" - Feminino\")\n",
    "elif l == \"M\":\n",
    "    print (l, \" - Masculino\")\n",
    "else:\n",
    "    print(l, \" - Sexo Invalido\")"
   ]
  },
  {
   "cell_type": "code",
   "execution_count": null,
   "id": "55cf4232-867a-4123-a809-520a781b5885",
   "metadata": {},
   "outputs": [],
   "source": [
    "#Faça um Programa que verifique se uma letra digitada é vogal ou consoante\n",
    "\n"
   ]
  }
 ],
 "metadata": {
  "kernelspec": {
   "display_name": "Python 3 (ipykernel)",
   "language": "python",
   "name": "python3"
  },
  "language_info": {
   "codemirror_mode": {
    "name": "ipython",
    "version": 3
   },
   "file_extension": ".py",
   "mimetype": "text/x-python",
   "name": "python",
   "nbconvert_exporter": "python",
   "pygments_lexer": "ipython3",
   "version": "3.11.7"
  }
 },
 "nbformat": 4,
 "nbformat_minor": 5
}
