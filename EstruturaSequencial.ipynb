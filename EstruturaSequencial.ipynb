{
 "cells": [
  {
   "cell_type": "code",
   "execution_count": null,
   "id": "75df8ba4-fefb-4db1-b5d8-d9e42e53ebca",
   "metadata": {},
   "outputs": [],
   "source": [
    "#Faça um Programa que mostre a mensagem \"Alo mundo\" na tela."
   ]
  },
  {
   "cell_type": "code",
   "execution_count": 1,
   "id": "995daa97-cb21-4ae6-a86a-9c451df249d4",
   "metadata": {},
   "outputs": [
    {
     "name": "stdout",
     "output_type": "stream",
     "text": [
      "Alo Mundo!\n"
     ]
    }
   ],
   "source": [
    "print(\"Alo Mundo!\")"
   ]
  },
  {
   "cell_type": "code",
   "execution_count": 4,
   "id": "61b9b114-41c1-4228-85d2-a5012457810d",
   "metadata": {},
   "outputs": [
    {
     "name": "stdin",
     "output_type": "stream",
     "text": [
      "Digite um número:  5\n"
     ]
    },
    {
     "name": "stdout",
     "output_type": "stream",
     "text": [
      "O número digitado foi:  5\n"
     ]
    }
   ],
   "source": [
    "#Faça um Programa que peça um número e então mostre a mensagem O número informado foi [número].\n",
    "num = int(input(\"Digite um número: \"))\n",
    "\n",
    "print(\"O número digitado foi: \", num)"
   ]
  },
  {
   "cell_type": "code",
   "execution_count": 6,
   "id": "ed8d5796-a841-4be4-8a2c-5bf57d5e4b3a",
   "metadata": {},
   "outputs": [
    {
     "name": "stdin",
     "output_type": "stream",
     "text": [
      "Digite um número:  5\n",
      "Digite outro número:  3\n"
     ]
    },
    {
     "name": "stdout",
     "output_type": "stream",
     "text": [
      "A soma dos números é:  8\n"
     ]
    }
   ],
   "source": [
    "#Faça um Programa que peça dois números e imprima a soma.\n",
    "num1 = int(input(\"Digite um número: \"))\n",
    "num2 = int(input(\"Digite outro número: \"))\n",
    "\n",
    "def soma(num1, num2):\n",
    "    return num1 + num2\n",
    "\n",
    "print(\"A soma dos números é: \", soma(num1, num2))"
   ]
  },
  {
   "cell_type": "code",
   "execution_count": 8,
   "id": "ee5c8580-ed6e-40db-9e75-fbf02ec7310b",
   "metadata": {},
   "outputs": [
    {
     "name": "stdin",
     "output_type": "stream",
     "text": [
      "Digite a nota:  5\n",
      "Digite a nota:  5.6\n",
      "Digite a nota:  8.7\n",
      "Digite a nota:  9.5\n"
     ]
    },
    {
     "name": "stdout",
     "output_type": "stream",
     "text": [
      "A média do aluno é:  9.0\n"
     ]
    }
   ],
   "source": [
    "#Faça um Programa que peça as 4 notas bimestrais e mostre a média.\n",
    "p1 = float(input(\"Digite a nota: \"))\n",
    "p2 = float(input(\"Digite a nota: \"))\n",
    "p3 = float(input(\"Digite a nota: \"))\n",
    "p4 = float(input(\"Digite a nota: \"))\n",
    "\n",
    "def media(p1, p2, p3, p4):\n",
    "    return (p1 + p2 + p3 + p4) // 3\n",
    "\n",
    "print(\"A média do aluno é: \", media(p1, p2, p3, p4))"
   ]
  },
  {
   "cell_type": "code",
   "execution_count": 10,
   "id": "e4c2e486-061c-4941-848c-6c84dc18ac36",
   "metadata": {},
   "outputs": [
    {
     "name": "stdin",
     "output_type": "stream",
     "text": [
      "Metros:  5\n"
     ]
    },
    {
     "name": "stdout",
     "output_type": "stream",
     "text": [
      "A conversão de  5.0 para centímetros é:  500.0\n"
     ]
    }
   ],
   "source": [
    "#Faça um Programa que converta metros para centímetros\n",
    "valor = float(input(\"Metros: \"))\n",
    "\n",
    "def convert(valor):\n",
    "    return valor * 100\n",
    "\n",
    "print(\"A conversão de \", valor, \"para centímetros é: \", convert(valor))"
   ]
  },
  {
   "cell_type": "code",
   "execution_count": 11,
   "id": "892d940a-10a1-4189-8ea4-6470ff935725",
   "metadata": {},
   "outputs": [
    {
     "name": "stdin",
     "output_type": "stream",
     "text": [
      "Insira o valor do raio de um círculo:  2\n"
     ]
    },
    {
     "name": "stdout",
     "output_type": "stream",
     "text": [
      "A área de um cículo é:  12.56\n"
     ]
    }
   ],
   "source": [
    "#Faça um Programa que peça o raio de um círculo, calcule e mostre sua área.\n",
    "raio = float(input(\"Insira o valor do raio de um círculo: \"))\n",
    "\n",
    "area = 3.14 * (raio * raio)\n",
    "\n",
    "print(\"A área de um cículo é: \", area)"
   ]
  },
  {
   "cell_type": "code",
   "execution_count": 12,
   "id": "e75dd264-2910-4cb2-8390-08e4a801f744",
   "metadata": {},
   "outputs": [
    {
     "name": "stdin",
     "output_type": "stream",
     "text": [
      "Insira o valor da área de um quadrado:  2\n"
     ]
    },
    {
     "name": "stdout",
     "output_type": "stream",
     "text": [
      "8.0\n"
     ]
    }
   ],
   "source": [
    "#Faça um Programa que calcule a área de um quadrado, em seguida mostre o dobro desta área para o usuário.\n",
    "quad = float(input(\"Insira o valor da área de um quadrado: \"))\n",
    "\n",
    "area = (quad**2) * 2\n",
    "\n",
    "print(area)\n"
   ]
  },
  {
   "cell_type": "code",
   "execution_count": 13,
   "id": "ae57be04-dcf3-49ef-9f15-a053cdd13703",
   "metadata": {},
   "outputs": [
    {
     "name": "stdin",
     "output_type": "stream",
     "text": [
      "Insira o valor recebido por hora:  20\n",
      "Insira o valor das horas trabalhadas por mes:  80\n"
     ]
    },
    {
     "name": "stdout",
     "output_type": "stream",
     "text": [
      "O valor do salário a receber este mês é:  1600.0\n"
     ]
    }
   ],
   "source": [
    "#Faça um Programa que pergunte quanto você ganha por hora e o número de horas trabalhadas no mês.\n",
    "#Calcule e mostre o total do seu salário no referido mês.\n",
    "\n",
    "valor = float(input(\"Insira o valor recebido por hora: \"))\n",
    "horas = float(input(\"Insira o valor das horas trabalhadas por mes: \"))\n",
    "\n",
    "total = valor * horas\n",
    "\n",
    "print(\"O valor do salário a receber este mês é: \", total)"
   ]
  },
  {
   "cell_type": "code",
   "execution_count": 18,
   "id": "08122e43-f0f4-432c-b0fc-e3f72a9a3cd0",
   "metadata": {},
   "outputs": [
    {
     "name": "stdin",
     "output_type": "stream",
     "text": [
      "Insira o valor da temperatura em fahrenheit:  78\n"
     ]
    },
    {
     "name": "stdout",
     "output_type": "stream",
     "text": [
      "A temperatura em celcius é:  25.555555555555554\n"
     ]
    }
   ],
   "source": [
    "#Faça um Programa que peça a temperatura em graus Fahrenheit, transforme e mostre a temperatura em graus Celsius.\n",
    "F = float(input(\"Insira o valor da temperatura em fahrenheit: \"))\n",
    "\n",
    "C = 5 * ((F-32) / 9)\n",
    "\n",
    "\n",
    "\n",
    "print(\"A temperatura em celcius é: \", C)\n"
   ]
  },
  {
   "cell_type": "code",
   "execution_count": 19,
   "id": "9039663d-eeea-4337-887e-753236689b13",
   "metadata": {},
   "outputs": [
    {
     "name": "stdin",
     "output_type": "stream",
     "text": [
      "Insira o valor da temperatura em Celcius:  25\n"
     ]
    },
    {
     "name": "stdout",
     "output_type": "stream",
     "text": [
      "A temperatura em fahrenheit é:  77.0\n"
     ]
    }
   ],
   "source": [
    "#Faça um Programa que peça a temperatura em graus Celsius, transforme e mostre em graus Fahrenheit.\n",
    "C = float(input(\"Insira o valor da temperatura em Celcius: \"))\n",
    "\n",
    "F = C * (9 / 5) + 32\n",
    "\n",
    "print(\"A temperatura em fahrenheit é: \", F)"
   ]
  },
  {
   "cell_type": "code",
   "execution_count": 20,
   "id": "ddebbd60-e4fe-4f71-92de-ed19d0bb38d3",
   "metadata": {},
   "outputs": [
    {
     "name": "stdin",
     "output_type": "stream",
     "text": [
      "Digite um número:  2\n",
      "Digite outro número:  3\n",
      "Digite um numero Real:  4\n"
     ]
    },
    {
     "name": "stdout",
     "output_type": "stream",
     "text": [
      "O produto do dobro do primeiro com metade do segundo é:  6.0\n",
      "A soma do triplo do primeiro com o terceiro é:  10\n",
      "O terceiro elevado ao cubo é:  64\n"
     ]
    }
   ],
   "source": [
    "#Faça um Programa que peça 2 números inteiros e um número real. Calcule e mostre:\n",
    "#a - o produto do dobro do primeiro com metade do segundo .\n",
    "#b - a soma do triplo do primeiro com o terceiro.\n",
    "#c - o terceiro elevado ao cubo.\n",
    "\n",
    "import math\n",
    "\n",
    "n1 = int(input(\"Digite um número: \"))\n",
    "n2 = int(input(\"Digite outro número: \"))\n",
    "nReal = int(input(\"Digite um numero Real: \"))\n",
    "\n",
    "result1 = (n1 * 2) * (n2 / 2)\n",
    "print(\"O produto do dobro do primeiro com metade do segundo é: \", result1)\n",
    "\n",
    "result2 = (n1 * 3) + nReal\n",
    "print(\"A soma do triplo do primeiro com o terceiro é: \", result2)\n",
    "\n",
    "result3 = nReal**3\n",
    "print(\"O terceiro elevado ao cubo é: \", result3)\n"
   ]
  },
  {
   "cell_type": "code",
   "execution_count": 21,
   "id": "9b9c74cf-2c7b-4ffa-a4a7-47825755cc13",
   "metadata": {},
   "outputs": [
    {
     "name": "stdin",
     "output_type": "stream",
     "text": [
      "Insira a altura:  1.63\n"
     ]
    },
    {
     "name": "stdout",
     "output_type": "stream",
     "text": [
      "O peso ideal é:  60.50099999999999\n"
     ]
    }
   ],
   "source": [
    "#Tendo como dados de entrada a altura de uma pessoa, construa um algoritmo que calcule seu peso ideal, usando a seguinte fórmula: (72.7*altura) - 58\n",
    "\n",
    "altura = float(input(\"Insira a altura: \"))\n",
    "\n",
    "def peso_ideal(altura):\n",
    "    return (72.7 * altura) - 58\n",
    "\n",
    "print(\"O peso ideal é: \", peso_ideal(altura))"
   ]
  },
  {
   "cell_type": "code",
   "execution_count": 30,
   "id": "705234cb-d8b6-41ec-9359-db61da71461b",
   "metadata": {},
   "outputs": [
    {
     "name": "stdin",
     "output_type": "stream",
     "text": [
      "\n",
      "Escolha 1 para homem e 2 para mulher:  2\n",
      "Insira a altura:  1.63\n"
     ]
    },
    {
     "name": "stdout",
     "output_type": "stream",
     "text": [
      "O peso ideal é:  56.522999999999996\n"
     ]
    }
   ],
   "source": [
    "#Tendo como dado de entrada a altura (h) de uma pessoa, construa um algoritmo que calcule seu peso ideal, utilizando as seguintes fórmulas:\n",
    "#Para homens: (72.7*h) - 58\n",
    "#Para mulheres: (62.1*h) - 44.7\n",
    "\n",
    "opcao = int(input(\"\\nEscolha 1 para homem e 2 para mulher: \"))\n",
    "h =  float(input(\"Insira a altura: \"))\n",
    "\n",
    "def peso():\n",
    "    if opcao == 1:\n",
    "        return (72.7*h) - 58\n",
    "    elif opcao == 2:\n",
    "       return (62.1*h) - 44.7\n",
    "    else:\n",
    "        return \"Opcao invalida\"\n",
    "\n",
    "print(\"O peso ideal é: \", peso())\n"
   ]
  },
  {
   "cell_type": "code",
   "execution_count": 33,
   "id": "872f397c-e6f3-4d7f-846d-07765c19af2b",
   "metadata": {
    "scrolled": true
   },
   "outputs": [
    {
     "name": "stdin",
     "output_type": "stream",
     "text": [
      "Insira o peso:  75\n"
     ]
    },
    {
     "name": "stdout",
     "output_type": "stream",
     "text": [
      "O peso excedente foi de:  25.0\n",
      "O valor da multa é de:  100.0\n"
     ]
    }
   ],
   "source": [
    "#João Papo-de-Pescador, homem de bem, comprou um microcomputador para controlar o rendimento diário de seu trabalho. \n",
    "#Toda vez que ele traz um peso de peixes maior que o estabelecido pelo regulamento de pesca do estado de São Paulo (50 quilos) deve pagar uma multa\n",
    "#de R$ 4,00 por quilo excedente. João precisa que você faça um programa que leia a variável peso (peso de peixes) e calcule o excesso.\n",
    "#Gravar na variável excesso a quantidade de quilos além do limite e na variável multa o valor da multa que João deverá pagar.\n",
    "#Imprima os dados do programa com as mensagens adequadas.\n",
    "\n",
    "peso = float(input(\"Insira o peso: \"))\n",
    "peso_padrao = 50\n",
    "peso_excedente = peso - 50\n",
    "multa = peso_excedente * 4.00\n",
    "\n",
    "print(\"O peso excedente foi de: \", peso_excedente)\n",
    "print(\"O valor da multa é de: \", multa)"
   ]
  },
  {
   "cell_type": "code",
   "execution_count": 34,
   "id": "71824e9f-671e-4ba2-84e5-c8779d469457",
   "metadata": {},
   "outputs": [
    {
     "name": "stdin",
     "output_type": "stream",
     "text": [
      "Insira o valor recebido por hora:  20\n",
      "Insira o valor das horas trabalhadas por mes:  100\n"
     ]
    },
    {
     "name": "stdout",
     "output_type": "stream",
     "text": [
      "Salario Bruto:  2000.0\n",
      "IR (11%):  220.0\n",
      "INSS (8%):  160.0\n",
      "Sindicato (5%):  100.0\n",
      "Total Descontos:  480.0\n",
      "Salario Liquido:  1520.0\n"
     ]
    }
   ],
   "source": [
    "#Faça um Programa que pergunte quanto você ganha por hora e o número de horas trabalhadas no mês. Calcule e mostre o total do seu salário no referido\n",
    "#mês, sabendo-se que são descontados 11% para o Imposto de Renda, 8% para o INSS e 5% para o sindicato, faça um programa que nos dê:\n",
    "#salário bruto.\n",
    "#quanto pagou ao INSS.\n",
    "#quanto pagou ao sindicato.\n",
    "#o salário líquido.\n",
    "#calcule os descontos e o salário líquido, conforme a tabela abaixo:\n",
    "#+ Salário Bruto : R$\n",
    "#- IR (11%) : R$\n",
    "#- INSS (8%) : R$\n",
    "#- Sindicato ( 5%) : R$\n",
    "#= Salário Liquido : R$\n",
    "\n",
    "valor = float(input(\"Insira o valor recebido por hora: \"))\n",
    "horas = float(input(\"Insira o valor das horas trabalhadas por mes: \"))\n",
    "\n",
    "tBruto = valor * horas\n",
    "ir = tBruto * 0.11\n",
    "inss = tBruto * 0.08\n",
    "sindicato = tBruto * 0.05\n",
    "descontos = ir + inss + sindicato\n",
    "tLiquido = tBruto - descontos\n",
    "\n",
    "print(\"Salario Bruto: \", tBruto)\n",
    "print(\"IR (11%): \", ir)\n",
    "print(\"INSS (8%): \", inss)\n",
    "print(\"Sindicato (5%): \", sindicato)\n",
    "print(\"Total Descontos: \", descontos)\n",
    "print(\"Salario Liquido: \", tLiquido)"
   ]
  },
  {
   "cell_type": "code",
   "execution_count": 13,
   "id": "cc5745b2-af1a-4e2b-9084-407004abbbfa",
   "metadata": {},
   "outputs": [
    {
     "name": "stdin",
     "output_type": "stream",
     "text": [
      "Insira o valor do tamanho da área a ser pintada:  200\n"
     ]
    },
    {
     "name": "stdout",
     "output_type": "stream",
     "text": [
      "A quantidade de latas de tinta a ser comprada é de:  4\n",
      "A qvalor total é de:  240.0\n"
     ]
    }
   ],
   "source": [
    "#Faça um programa para uma loja de tintas. O programa deverá pedir o tamanho em metros quadrados da área a ser pintada.\n",
    "#Considere que a cobertura da tinta é de 1 litro para cada 3 metros quadrados e que a tinta é vendida em latas de 18 litros, que custam R$ 80,00.\n",
    "#Informe ao usuário a quantidades de latas de tinta a serem compradas e o preço total.\n",
    "\n",
    "metros = float(input(\"Insira o valor do tamanho da área a ser pintada: \"))\n",
    "litros = metros/3\n",
    "capacidade = 18\n",
    "preco = 80.0\n",
    "\n",
    "latas =  litros // capacidade\n",
    "valTotal = latas * preco\n",
    "\n",
    "print(\"A quantidade de latas de tinta a ser comprada é de: \", round(qtd))\n",
    "print(\"A qvalor total é de: \", valTotal)\n",
    "\n",
    "#print(\"area \", area, \"litro: \", litro, \"latas: \", latas, \"preco: \", preco)\n"
   ]
  },
  {
   "cell_type": "code",
   "execution_count": 3,
   "id": "20997b9e-514c-4131-9ed3-babf6e52de44",
   "metadata": {},
   "outputs": [
    {
     "name": "stdin",
     "output_type": "stream",
     "text": [
      "Entre com o tamanho da área:  20\n"
     ]
    },
    {
     "name": "stdout",
     "output_type": "stream",
     "text": [
      "Apenas latas de 18 litros: 1 , preço: 94\n",
      "Apenas galões de 3.6 litros: 1 , preço: 48\n",
      "Mistura: 0 latas e 1 galoes = 25.00\n"
     ]
    }
   ],
   "source": [
    "#Faça um Programa para uma loja de tintas. O programa deverá pedir o tamanho em metros quadrados da área a ser pintada. \n",
    "#Considere que a cobertura da tinta é de 1 litro para cada 6 metros quadrados e que a tinta é vendida em latas de 18 litros, que custam R$ 80,00 ou \n",
    "#em galões de 3,6 litros, que custam R$ 25,00.\n",
    "#Informe ao usuário as quantidades de tinta a serem compradas e os respectivos preços em 3 situações:\n",
    "#comprar apenas latas de 18 litros;\n",
    "#comprar apenas galões de 3,6 litros;\n",
    "#misturar latas e galões, de forma que o desperdício de tinta seja menor. Acrescente 10% de folga e sempre arredonde os valores para cima, isto é, \n",
    "#considere latas cheias.\n",
    "\n",
    "tamanho = float(input('Entre com o tamanho da área: '))\n",
    "\n",
    "litros = tamanho/6\n",
    "latas = litros/18\n",
    "galoes = litros/3.6\n",
    "preco_lata = 80\n",
    "preco_galao = 25\n",
    "\n",
    "if latas % 18 != 0:\n",
    "    latas += 1\n",
    "preco = latas * 80\n",
    "\n",
    "galoes = litros / 3.6\n",
    "if galoes % 3.6 != 0:\n",
    "    galoes += 1\n",
    "preco2 = galoes * 25\n",
    "\n",
    "# mistura de latas e galoes\n",
    "mistura_lata = int(litros / 18.0)\n",
    "mistura_galao = int((litros - (mistura_lata * 18)) / 3.6)\n",
    "\n",
    "if litros - (mistura_lata * 18) % 3.6 != 0:\n",
    "    mistura_galao += 1\n",
    "\n",
    "print('Apenas latas de 18 litros: %d' % latas, ', preço: %d' % preco)\n",
    "print('Apenas galões de 3.6 litros: %d' % galoes, ', preço: %d' % preco2)\n",
    "print('Mistura: %d latas e %d galoes = %.2f' % (\n",
    "    mistura_lata, mistura_galao, ((mistura_lata * 80) + (mistura_galao * 25))))"
   ]
  },
  {
   "cell_type": "code",
   "execution_count": 13,
   "id": "1602fce1-6978-4dc1-a010-521588dd112e",
   "metadata": {},
   "outputs": [
    {
     "name": "stdin",
     "output_type": "stream",
     "text": [
      "Tamanho do Arquivo:  1500\n",
      "Tamanho de Internet:  20\n"
     ]
    },
    {
     "name": "stdout",
     "output_type": "stream",
     "text": [
      "Tempo aproximado de download: 1 Minutos \n"
     ]
    }
   ],
   "source": [
    "#Faça um programa que peça o tamanho de um arquivo para download (em MB) e a velocidade de um link de Internet (em Mbps), \n",
    "#calcule e informe o tempo aproximado de download do arquivo usando este link (em minutos).\n",
    "\n",
    "tamanho = float(input(\"Tamanho do Arquivo: \"))\n",
    "velocidade = float(input(\"Tamanho de Internet: \"))\n",
    "tempo = tamanho / velocidade\n",
    "minutos = tempo / 60.0\n",
    "\n",
    "print(\"Tempo aproximado de download: %.0f Minutos \"  % minutos)\n"
   ]
  },
  {
   "cell_type": "code",
   "execution_count": null,
   "id": "1f5db85c-2d11-4be4-b608-4d1ccc32d501",
   "metadata": {},
   "outputs": [],
   "source": []
  }
 ],
 "metadata": {
  "kernelspec": {
   "display_name": "Python 3 (ipykernel)",
   "language": "python",
   "name": "python3"
  },
  "language_info": {
   "codemirror_mode": {
    "name": "ipython",
    "version": 3
   },
   "file_extension": ".py",
   "mimetype": "text/x-python",
   "name": "python",
   "nbconvert_exporter": "python",
   "pygments_lexer": "ipython3",
   "version": "3.11.7"
  }
 },
 "nbformat": 4,
 "nbformat_minor": 5
}
